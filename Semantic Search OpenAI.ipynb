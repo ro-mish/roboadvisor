{
 "cells": [
  {
   "cell_type": "markdown",
   "metadata": {},
   "source": [
    "Persona Semantic Search + RAG Prototype\n",
    "This notebook implements a **persona detection** pipeline using **semantic search** over a **mock corpus** of investor questions. It returns a `/semantic_search`-style JSON with the **top persona** and a\n",
    "**persona_definition** that you can inject into LLM.\n",
    "\n",
    "What you get:\n",
    "- Mock persona dataset (Novice / Intermediate / Expert) saved to **Excel** and **CSV**\n",
    "- Embeddings + cosine similarity via `sentence-transformers`\n",
    "- `/semantic_search` function returning: `[{\"persona\": str, \"persona_definition\": str}]`\n",
    "- **RAG** generator that tailors the answer using the selected persona (offline template or OpenAI if available)"
   ]
  },
  {
   "cell_type": "code",
   "execution_count": 1,
   "metadata": {},
   "outputs": [],
   "source": [
    "#!pip install sentence-transformers pandas numpy openai"
   ]
  },
  {
   "cell_type": "code",
   "execution_count": 4,
   "metadata": {},
   "outputs": [
    {
     "name": "stdout",
     "output_type": "stream",
     "text": [
      "Collecting openai\n",
      "  Downloading openai-1.99.9-py3-none-any.whl.metadata (29 kB)\n",
      "Requirement already satisfied: anyio<5,>=3.5.0 in c:\\users\\mail2\\appdata\\local\\programs\\python\\python313\\lib\\site-packages (from openai) (4.9.0)\n",
      "Collecting distro<2,>=1.7.0 (from openai)\n",
      "  Downloading distro-1.9.0-py3-none-any.whl.metadata (6.8 kB)\n",
      "Requirement already satisfied: httpx<1,>=0.23.0 in c:\\users\\mail2\\appdata\\local\\programs\\python\\python313\\lib\\site-packages (from openai) (0.28.1)\n",
      "Collecting jiter<1,>=0.4.0 (from openai)\n",
      "  Downloading jiter-0.10.0-cp313-cp313-win_amd64.whl.metadata (5.3 kB)\n",
      "Collecting pydantic<3,>=1.9.0 (from openai)\n",
      "  Downloading pydantic-2.11.7-py3-none-any.whl.metadata (67 kB)\n",
      "Requirement already satisfied: sniffio in c:\\users\\mail2\\appdata\\local\\programs\\python\\python313\\lib\\site-packages (from openai) (1.3.1)\n",
      "Requirement already satisfied: tqdm>4 in c:\\users\\mail2\\appdata\\local\\programs\\python\\python313\\lib\\site-packages (from openai) (4.67.1)\n",
      "Requirement already satisfied: typing-extensions<5,>=4.11 in c:\\users\\mail2\\appdata\\local\\programs\\python\\python313\\lib\\site-packages (from openai) (4.13.2)\n",
      "Requirement already satisfied: idna>=2.8 in c:\\users\\mail2\\appdata\\local\\programs\\python\\python313\\lib\\site-packages (from anyio<5,>=3.5.0->openai) (3.10)\n",
      "Requirement already satisfied: certifi in c:\\users\\mail2\\appdata\\local\\programs\\python\\python313\\lib\\site-packages (from httpx<1,>=0.23.0->openai) (2025.4.26)\n",
      "Requirement already satisfied: httpcore==1.* in c:\\users\\mail2\\appdata\\local\\programs\\python\\python313\\lib\\site-packages (from httpx<1,>=0.23.0->openai) (1.0.9)\n",
      "Requirement already satisfied: h11>=0.16 in c:\\users\\mail2\\appdata\\local\\programs\\python\\python313\\lib\\site-packages (from httpcore==1.*->httpx<1,>=0.23.0->openai) (0.16.0)\n",
      "Collecting annotated-types>=0.6.0 (from pydantic<3,>=1.9.0->openai)\n",
      "  Downloading annotated_types-0.7.0-py3-none-any.whl.metadata (15 kB)\n",
      "Collecting pydantic-core==2.33.2 (from pydantic<3,>=1.9.0->openai)\n",
      "  Downloading pydantic_core-2.33.2-cp313-cp313-win_amd64.whl.metadata (6.9 kB)\n",
      "Collecting typing-inspection>=0.4.0 (from pydantic<3,>=1.9.0->openai)\n",
      "  Downloading typing_inspection-0.4.1-py3-none-any.whl.metadata (2.6 kB)\n",
      "Requirement already satisfied: colorama in c:\\users\\mail2\\appdata\\local\\programs\\python\\python313\\lib\\site-packages (from tqdm>4->openai) (0.4.6)\n",
      "Downloading openai-1.99.9-py3-none-any.whl (786 kB)\n",
      "   ---------------------------------------- 0.0/786.8 kB ? eta -:--:--\n",
      "   --------------------------------------- 786.8/786.8 kB 13.3 MB/s eta 0:00:00\n",
      "Downloading distro-1.9.0-py3-none-any.whl (20 kB)\n",
      "Downloading jiter-0.10.0-cp313-cp313-win_amd64.whl (205 kB)\n",
      "Downloading pydantic-2.11.7-py3-none-any.whl (444 kB)\n",
      "Downloading pydantic_core-2.33.2-cp313-cp313-win_amd64.whl (2.0 MB)\n",
      "   ---------------------------------------- 0.0/2.0 MB ? eta -:--:--\n",
      "   ---------------------------------------- 2.0/2.0 MB 20.2 MB/s eta 0:00:00\n",
      "Downloading annotated_types-0.7.0-py3-none-any.whl (13 kB)\n",
      "Downloading typing_inspection-0.4.1-py3-none-any.whl (14 kB)\n",
      "Installing collected packages: typing-inspection, pydantic-core, jiter, distro, annotated-types, pydantic, openai\n",
      "Successfully installed annotated-types-0.7.0 distro-1.9.0 jiter-0.10.0 openai-1.99.9 pydantic-2.11.7 pydantic-core-2.33.2 typing-inspection-0.4.1\n"
     ]
    },
    {
     "name": "stderr",
     "output_type": "stream",
     "text": [
      "\n",
      "[notice] A new release of pip is available: 25.0.1 -> 25.2\n",
      "[notice] To update, run: C:\\Users\\mail2\\AppData\\Local\\Programs\\Python\\Python313\\python.exe -m pip install --upgrade pip\n"
     ]
    }
   ],
   "source": [
    "!{sys.executable} -m pip install --upgrade openai\n",
    "\n",
    "from openai import OpenAI"
   ]
  },
  {
   "cell_type": "code",
   "execution_count": 3,
   "metadata": {},
   "outputs": [
    {
     "name": "stdout",
     "output_type": "stream",
     "text": [
      "C:\\Users\\mail2\\AppData\\Local\\Programs\\Python\\Python313\\python.exe\n"
     ]
    }
   ],
   "source": [
    "import sys\n",
    "print(sys.executable)"
   ]
  },
  {
   "cell_type": "code",
   "execution_count": 25,
   "metadata": {},
   "outputs": [
    {
     "name": "stdout",
     "output_type": "stream",
     "text": [
      "OpenAI not available; falling back to offline templating. No module named 'openai'\n"
     ]
    }
   ],
   "source": [
    "import os\n",
    "import json\n",
    "from pathlib import Path\n",
    "from typing import List, Dict\n",
    "\n",
    "import numpy as np\n",
    "import pandas as pd\n",
    "from sentence_transformers import SentenceTransformer, util\n",
    "\n",
    "OPENAI_API_KEY = \"ADD OPENAI KEY\"\n",
    "client = None\n",
    "if OPENAI_API_KEY:\n",
    "    try:\n",
    "        from openai import OpenAI\n",
    "        client = OpenAI(api_key=OPENAI_API_KEY)\n",
    "        print(\"OpenAI client initialized.\")\n",
    "    except Exception as e:\n",
    "        client = None\n",
    "        print(\"OpenAI not available; falling back to offline templating.\", e)\n",
    "else:\n",
    "    print(\"OPENAI_API_KEY not set; using offline templating.\")\n",
    "\n"
   ]
  },
  {
   "cell_type": "code",
   "execution_count": 20,
   "metadata": {},
   "outputs": [
    {
     "data": {
      "text/html": [
       "<div>\n",
       "<style scoped>\n",
       "    .dataframe tbody tr th:only-of-type {\n",
       "        vertical-align: middle;\n",
       "    }\n",
       "\n",
       "    .dataframe tbody tr th {\n",
       "        vertical-align: top;\n",
       "    }\n",
       "\n",
       "    .dataframe thead th {\n",
       "        text-align: right;\n",
       "    }\n",
       "</style>\n",
       "<table border=\"1\" class=\"dataframe\">\n",
       "  <thead>\n",
       "    <tr style=\"text-align: right;\">\n",
       "      <th></th>\n",
       "      <th>persona</th>\n",
       "      <th>persona_definition</th>\n",
       "      <th>example_question</th>\n",
       "    </tr>\n",
       "  </thead>\n",
       "  <tbody>\n",
       "    <tr>\n",
       "      <th>0</th>\n",
       "      <td>Novice Investor</td>\n",
       "      <td>A beginner in investing who needs simple expla...</td>\n",
       "      <td>What is a stock and how is it different from a...</td>\n",
       "    </tr>\n",
       "    <tr>\n",
       "      <th>1</th>\n",
       "      <td>Novice Investor</td>\n",
       "      <td>A beginner in investing who needs simple expla...</td>\n",
       "      <td>How do I start investing with a small amount o...</td>\n",
       "    </tr>\n",
       "    <tr>\n",
       "      <th>2</th>\n",
       "      <td>Novice Investor</td>\n",
       "      <td>A beginner in investing who needs simple expla...</td>\n",
       "      <td>Is an ETF safer than a single stock?</td>\n",
       "    </tr>\n",
       "    <tr>\n",
       "      <th>3</th>\n",
       "      <td>Novice Investor</td>\n",
       "      <td>A beginner in investing who needs simple expla...</td>\n",
       "      <td>What is the safest way to grow my savings?</td>\n",
       "    </tr>\n",
       "    <tr>\n",
       "      <th>4</th>\n",
       "      <td>Novice Investor</td>\n",
       "      <td>A beginner in investing who needs simple expla...</td>\n",
       "      <td>Should I invest monthly or all at once?</td>\n",
       "    </tr>\n",
       "  </tbody>\n",
       "</table>\n",
       "</div>"
      ],
      "text/plain": [
       "           persona                                 persona_definition  \\\n",
       "0  Novice Investor  A beginner in investing who needs simple expla...   \n",
       "1  Novice Investor  A beginner in investing who needs simple expla...   \n",
       "2  Novice Investor  A beginner in investing who needs simple expla...   \n",
       "3  Novice Investor  A beginner in investing who needs simple expla...   \n",
       "4  Novice Investor  A beginner in investing who needs simple expla...   \n",
       "\n",
       "                                    example_question  \n",
       "0  What is a stock and how is it different from a...  \n",
       "1  How do I start investing with a small amount o...  \n",
       "2               Is an ETF safer than a single stock?  \n",
       "3         What is the safest way to grow my savings?  \n",
       "4            Should I invest monthly or all at once?  "
      ]
     },
     "execution_count": 20,
     "metadata": {},
     "output_type": "execute_result"
    }
   ],
   "source": [
    "# Create Mock Persona Corpus (Novice / Intermediate / Expert)\n",
    "corpus = [\n",
    "    {\n",
    "        \"persona\": \"Novice Investor\",\n",
    "        \"persona_definition\": (\n",
    "            \"A beginner in investing who needs simple explanations, minimal jargon, \"\n",
    "            \"and prefers low-risk, diversified funds with long-term horizons.\"\n",
    "        ),\n",
    "        \"example_questions\": [\n",
    "            \"What is a stock and how is it different from a bond?\",\n",
    "            \"How do I start investing with a small amount of money?\",\n",
    "            \"Is an ETF safer than a single stock?\",\n",
    "            \"What is the safest way to grow my savings?\",\n",
    "            \"Should I invest monthly or all at once?\"\n",
    "        ]\n",
    "    },\n",
    "    {\n",
    "        \"persona\": \"Intermediate DIY Investor\",\n",
    "        \"persona_definition\": (\n",
    "            \"Understands basic asset classes and portfolio concepts, comfortable with \"\n",
    "            \"moderate risk, seeks balanced explanations with some metrics.\"\n",
    "        ),\n",
    "        \"example_questions\": [\n",
    "            \"How should I balance ETFs and bonds in a 10-year plan?\",\n",
    "            \"What asset allocation fits a moderate risk tolerance?\",\n",
    "            \"Compare VTI and SPY for diversification and fees.\",\n",
    "            \"Is dollar-cost averaging better than lump-sum in a volatile market?\",\n",
    "            \"How do I rebalance a 60/40 portfolio?\"\n",
    "        ]\n",
    "    },\n",
    "    {\n",
    "        \"persona\": \"Expert Investor\",\n",
    "        \"persona_definition\": (\n",
    "            \"Comfortable with financial jargon and advanced strategies; expects concise, \"\n",
    "            \"data-rich insights using risk/return statistics and factor exposures.\"\n",
    "        ),\n",
    "        \"example_questions\": [\n",
    "            \"Contrast factor tilts between QQQ and RSP; impact on drawdown and tracking error.\",\n",
    "            \"Implications of an inverted yield curve for duration exposure in IG vs HY credit ETFs?\",\n",
    "            \"Compare 1Y and 3Y Sharpe for SCHD vs VIG with dividend stability considerations.\",\n",
    "            \"How do you hedge currency risk for international equity exposure?\",\n",
    "            \"Suggest a momentum tilt using rolling 6M/12M signals across sector ETFs.\"\n",
    "        ]\n",
    "    }\n",
    "]\n",
    "\n",
    "rows = []\n",
    "for d in corpus:\n",
    "    for q in d[\"example_questions\"]:\n",
    "        rows.append(\n",
    "            {\n",
    "                \"persona\": d[\"persona\"],\n",
    "                \"persona_definition\": d[\"persona_definition\"],\n",
    "                \"example_question\": q,\n",
    "            }\n",
    "        )\n",
    "\n",
    "df = pd.DataFrame(rows)\n",
    "df.head()"
   ]
  },
  {
   "cell_type": "code",
   "execution_count": 6,
   "metadata": {},
   "outputs": [
    {
     "name": "stdout",
     "output_type": "stream",
     "text": [
      "Saved: C:\\Users\\mail2\\Documents\\Northwestern MSDS\\Capstone DS498\\persona_demo_data\\persona_corpus.xlsx\n",
      "Saved: C:\\Users\\mail2\\Documents\\Northwestern MSDS\\Capstone DS498\\persona_demo_data\\persona_corpus.csv\n"
     ]
    }
   ],
   "source": [
    "out_dir = Path(\"persona_demo_data\")\n",
    "out_dir.mkdir(exist_ok=True)\n",
    "excel_path = out_dir / \"persona_corpus.xlsx\"\n",
    "csv_path = out_dir / \"persona_corpus.csv\"\n",
    "\n",
    "with pd.ExcelWriter(excel_path) as writer:\n",
    "    df.to_excel(writer, index=False, sheet_name=\"persona_corpus\")\n",
    "\n",
    "df.to_csv(csv_path, index=False)\n",
    "\n",
    "print(\"Saved:\", excel_path.resolve())\n",
    "print(\"Saved:\", csv_path.resolve())"
   ]
  },
  {
   "cell_type": "code",
   "execution_count": 7,
   "metadata": {},
   "outputs": [
    {
     "name": "stdout",
     "output_type": "stream",
     "text": [
      "Embeddings shape: torch.Size([15, 384])\n"
     ]
    },
    {
     "data": {
      "text/plain": [
       "(15, 3)"
      ]
     },
     "execution_count": 7,
     "metadata": {},
     "output_type": "execute_result"
    }
   ],
   "source": [
    "#Build Embeddings Index\n",
    "model = SentenceTransformer(\"all-MiniLM-L6-v2\")\n",
    "embeddings = model.encode(df[\"example_question\"].tolist(), convert_to_tensor=True)\n",
    "print(\"Embeddings shape:\", embeddings.shape)\n",
    "df.shape"
   ]
  },
  {
   "cell_type": "code",
   "execution_count": 8,
   "metadata": {},
   "outputs": [
    {
     "data": {
      "text/plain": [
       "[{'persona': 'Novice Investor',\n",
       "  'persona_definition': 'A beginner in investing who needs simple explanations, minimal jargon, and prefers low-risk, diversified funds with long-term horizons.'}]"
      ]
     },
     "execution_count": 8,
     "metadata": {},
     "output_type": "execute_result"
    }
   ],
   "source": [
    "# `/semantic_search` — Return Top Persona + Definition\n",
    "\n",
    "def semantic_search(user_query: str, top_k: int = 1) -> List[Dict[str, str]]:\n",
    "    \"\"\"\n",
    "    Given a user query, return the top persona and persona_definition.\n",
    "    Response schema matches your API design:\n",
    "    [ { 'persona': str, 'persona_definition': str } ]\n",
    "    \"\"\"\n",
    "    query_emb = model.encode(user_query, convert_to_tensor=True)\n",
    "    scores = util.cos_sim(query_emb, embeddings).cpu().numpy().flatten()\n",
    "    top_idx = scores.argsort()[-top_k:][::-1]\n",
    "    results = []\n",
    "    for idx in top_idx:\n",
    "        row = df.iloc[idx]\n",
    "        results.append(\n",
    "            {\n",
    "                \"persona\": row[\"persona\"],\n",
    "                \"persona_definition\": row[\"persona_definition\"],\n",
    "            }\n",
    "        )\n",
    "    return results\n",
    "\n",
    "\n",
    "semantic_search(\"How do I start investing with a small amount of money?\")"
   ]
  },
  {
   "cell_type": "code",
   "execution_count": 14,
   "metadata": {},
   "outputs": [],
   "source": [
    "# RAG-Style Response Generation\n",
    "try:\n",
    "    from openai import OpenAI\n",
    "    client = OpenAI(api_key=os.getenv(\"OPENAI_API_KEY\")) if os.getenv(\"OPENAI_API_KEY\") else None\n",
    "except ImportError:\n",
    "    client = None\n",
    "\n",
    "def generate_advice_with_persona(user_query: str, budget: float = 0.0) -> Dict[str, str]:\n",
    "    \"\"\"\n",
    "    Semantic search -> persona -> tailored answer.\n",
    "    Uses OpenAI if available, otherwise falls back to offline template.\n",
    "    Returns a dict: {'persona', 'persona_definition', 'answer'}\n",
    "    \"\"\"\n",
    "    top = semantic_search(user_query, top_k=1)[0]\n",
    "    persona = top[\"persona\"]\n",
    "    persona_def = top[\"persona_definition\"]\n",
    "\n",
    "    use_openai = client is not None\n",
    "    answer = \"\"\n",
    "\n",
    "    if use_openai: \n",
    "        try:\n",
    "            response = client.chat.completions.create(\n",
    "                model=\"gpt-4o-mini\",\n",
    "                messages=[\n",
    "                    {\"role\": \"system\", \"content\": f\"You are {persona}, defined as: {persona_def}. Provide ETF/stock advice.\"},\n",
    "                    {\"role\": \"user\", \"content\": f\"User question: {user_query}. Budget: ${budget:,.2f}\"}\n",
    "                ],\n",
    "                max_tokens=300\n",
    "            )\n",
    "            answer = response.choices[0].message.content.strip()\n",
    "        except Exception as e:\n",
    "            answer = f\"[LLM Error: {e}] Falling back to offline template.\"\n",
    "            use_openai = False \n",
    "\n",
    "    if not use_openai:\n",
    "        if persona == \"Novice Investor\":\n",
    "            answer = (\n",
    "                f\"As a beginner, focus on simple, diversified choices. \"\n",
    "                f\"Consider a low-cost broad ETF and add a bond ETF to reduce ups and downs. \"\n",
    "                f\"Invest regularly (monthly) and avoid timing the market. \"\n",
    "                f\"Your question: '{user_query}'.\"\n",
    "            )\n",
    "        elif persona == \"Intermediate DIY Investor\":\n",
    "            answer = (\n",
    "                f\"Given your intermediate profile, balance growth and stability. \"\n",
    "                f\"A core broad equity ETF plus a bond sleeve can work; rebalance (e.g., 60/40). \"\n",
    "                f\"Watch expense ratios and tax efficiency. \"\n",
    "                f\"Question: '{user_query}'.\"\n",
    "            )\n",
    "        else:  # Expert Investor\n",
    "            answer = (\n",
    "                f\"For an expert: align allocation with your risk budget and macro view. \"\n",
    "                f\"Consider factor tilts and monitor risk-adjusted returns. \"\n",
    "                f\"If tactical, define entry/exit rules. \"\n",
    "                f\"Question: '{user_query}'.\"\n",
    "            )\n",
    "\n",
    "    return {\"persona\": persona, \"persona_definition\": persona_def, \"answer\": answer}"
   ]
  },
  {
   "cell_type": "code",
   "execution_count": 15,
   "metadata": {},
   "outputs": [
    {
     "data": {
      "text/plain": [
       "{'persona': 'Novice Investor',\n",
       " 'persona_definition': 'A beginner in investing who needs simple explanations, minimal jargon, and prefers low-risk, diversified funds with long-term horizons.',\n",
       " 'answer': \"As a beginner, focus on simple, diversified choices. Consider a low-cost broad ETF and add a bond ETF to reduce ups and downs. Invest regularly (monthly) and avoid timing the market. Your question: 'What is the safest way to grow my savings?'.\"}"
      ]
     },
     "execution_count": 15,
     "metadata": {},
     "output_type": "execute_result"
    }
   ],
   "source": [
    "generate_advice_with_persona(\"What is the safest way to grow my savings?\", budget=2000)"
   ]
  },
  {
   "cell_type": "code",
   "execution_count": 16,
   "metadata": {},
   "outputs": [
    {
     "name": "stdout",
     "output_type": "stream",
     "text": [
      "Q: Should I buy bonds or ETFs for retirement?\n",
      "{\n",
      "  \"persona\": \"Intermediate DIY Investor\",\n",
      "  \"persona_definition\": \"Understands basic asset classes and portfolio concepts, comfortable with moderate risk, seeks balanced explanations with some metrics.\",\n",
      "  \"answer\": \"Given your intermediate profile, balance growth and stability. A core broad equity ETF plus a bond sleeve can work; rebalance (e.g., 60/40). Watch expense ratios and tax efficiency. Question: 'Should I buy bonds or ETFs for retirement?'.\"\n",
      "} \n",
      "\n",
      "Q: How do you calculate beta exposure on a leveraged ETF?\n",
      "{\n",
      "  \"persona\": \"Expert Investor\",\n",
      "  \"persona_definition\": \"Comfortable with financial jargon and advanced strategies; expects concise, data-rich insights using risk/return statistics and factor exposures.\",\n",
      "  \"answer\": \"For an expert: align allocation with your risk budget and macro view. Consider factor tilts and monitor risk-adjusted returns. If tactical, define entry/exit rules. Question: 'How do you calculate beta exposure on a leveraged ETF?'.\"\n",
      "} \n",
      "\n",
      "Q: Compare VTI and SPY for diversification and fees.\n",
      "{\n",
      "  \"persona\": \"Intermediate DIY Investor\",\n",
      "  \"persona_definition\": \"Understands basic asset classes and portfolio concepts, comfortable with moderate risk, seeks balanced explanations with some metrics.\",\n",
      "  \"answer\": \"Given your intermediate profile, balance growth and stability. A core broad equity ETF plus a bond sleeve can work; rebalance (e.g., 60/40). Watch expense ratios and tax efficiency. Question: 'Compare VTI and SPY for diversification and fees.'.\"\n",
      "} \n",
      "\n",
      "Q: What is a stock?\n",
      "{\n",
      "  \"persona\": \"Novice Investor\",\n",
      "  \"persona_definition\": \"A beginner in investing who needs simple explanations, minimal jargon, and prefers low-risk, diversified funds with long-term horizons.\",\n",
      "  \"answer\": \"As a beginner, focus on simple, diversified choices. Consider a low-cost broad ETF and add a bond ETF to reduce ups and downs. Invest regularly (monthly) and avoid timing the market. Your question: 'What is a stock?'.\"\n",
      "} \n",
      "\n"
     ]
    }
   ],
   "source": [
    "# Multiple Queries\n",
    "\n",
    "queries = [\n",
    "    \"Should I buy bonds or ETFs for retirement?\",\n",
    "    \"How do you calculate beta exposure on a leveraged ETF?\",\n",
    "    \"Compare VTI and SPY for diversification and fees.\",\n",
    "    \"What is a stock?\"\n",
    "]\n",
    "\n",
    "for q in queries:\n",
    "    result = generate_advice_with_persona(q, budget=5000)\n",
    "    print(\"Q:\", q)\n",
    "    print(json.dumps(result, indent=2), \"\\n\")\n",
    "\n"
   ]
  },
  {
   "cell_type": "code",
   "execution_count": 17,
   "metadata": {},
   "outputs": [],
   "source": [
    "# Mimic an API handler: `/semantic_search`\n",
    "def api_semantic_search(payload: Dict[str, str]) -> List[Dict[str, str]]:\n",
    "    \"\"\"\n",
    "    Mimic of a FastAPI/Flask handler.\n",
    "    Input payload example: { \"query\": \"user question here\" }\n",
    "    Output: [ {persona, persona_definition} ]\n",
    "    \"\"\"\n",
    "    query = payload.get(\"query\", \"\")\n",
    "    return semantic_search(query, top_k=1)"
   ]
  },
  {
   "cell_type": "code",
   "execution_count": 18,
   "metadata": {},
   "outputs": [
    {
     "data": {
      "text/plain": [
       "[{'persona': 'Novice Investor',\n",
       "  'persona_definition': 'A beginner in investing who needs simple explanations, minimal jargon, and prefers low-risk, diversified funds with long-term horizons.'}]"
      ]
     },
     "execution_count": 18,
     "metadata": {},
     "output_type": "execute_result"
    }
   ],
   "source": [
    "api_semantic_search({\"query\": \"How do I start investing with little money?\"})"
   ]
  },
  {
   "cell_type": "code",
   "execution_count": null,
   "metadata": {},
   "outputs": [],
   "source": []
  }
 ],
 "metadata": {
  "kernelspec": {
   "display_name": "Python 3.13",
   "language": "python",
   "name": "python313"
  },
  "language_info": {
   "codemirror_mode": {
    "name": "ipython",
    "version": 3
   },
   "file_extension": ".py",
   "mimetype": "text/x-python",
   "name": "python",
   "nbconvert_exporter": "python",
   "pygments_lexer": "ipython3",
   "version": "3.13.2"
  }
 },
 "nbformat": 4,
 "nbformat_minor": 4
}
